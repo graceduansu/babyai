{
 "metadata": {
  "language_info": {
   "codemirror_mode": {
    "name": "ipython",
    "version": 3
   },
   "file_extension": ".py",
   "mimetype": "text/x-python",
   "name": "python",
   "nbconvert_exporter": "python",
   "pygments_lexer": "ipython3",
   "version": "3.6.13"
  },
  "orig_nbformat": 4,
  "kernelspec": {
   "name": "python3",
   "display_name": "Python 3.6.13 64-bit ('babyai': conda)"
  },
  "interpreter": {
   "hash": "6e0be762d0aa71c13b0877707367a590eb61c60607cb738dbbfe2697b6e544bd"
  }
 },
 "nbformat": 4,
 "nbformat_minor": 2,
 "cells": [
  {
   "cell_type": "code",
   "execution_count": 1,
   "metadata": {},
   "outputs": [],
   "source": [
    "import gym\n",
    "from babyai.levels.levelgen import *"
   ]
  },
  {
   "cell_type": "code",
   "execution_count": 2,
   "metadata": {},
   "outputs": [],
   "source": [
    "register_levels('iclr19_levels', globals())"
   ]
  },
  {
   "cell_type": "code",
   "execution_count": 3,
   "metadata": {},
   "outputs": [],
   "source": [
    "\n",
    "env = gym.make('BabyAI-SynthSeq-v0')\n"
   ]
  },
  {
   "cell_type": "code",
   "execution_count": 4,
   "metadata": {},
   "outputs": [],
   "source": [
    "from array2gif import write_gif"
   ]
  },
  {
   "cell_type": "code",
   "execution_count": 5,
   "metadata": {},
   "outputs": [],
   "source": [
    "import babyai.utils as utils"
   ]
  },
  {
   "cell_type": "code",
   "execution_count": 6,
   "metadata": {},
   "outputs": [],
   "source": [
    "import numpy"
   ]
  },
  {
   "cell_type": "code",
   "execution_count": 7,
   "metadata": {},
   "outputs": [],
   "source": [
    "d_path = \"/data/graceduansu/demos/BabyAI-SynthSeq-v0\""
   ]
  },
  {
   "cell_type": "code",
   "execution_count": 8,
   "metadata": {},
   "outputs": [],
   "source": [
    "demos_path = utils.get_demos_path(d_path, None, None, valid=False)\n",
    "train_demos = utils.load_demos(demos_path)"
   ]
  },
  {
   "cell_type": "code",
   "execution_count": 9,
   "metadata": {
    "tags": []
   },
   "outputs": [],
   "source": [
    "batch = [train_demos[i] for i in range(0,100)]"
   ]
  },
  {
   "cell_type": "code",
   "execution_count": 10,
   "metadata": {},
   "outputs": [],
   "source": [
    "demo_list = utils.demos.transform_demos(batch)"
   ]
  },
  {
   "cell_type": "code",
   "execution_count": 11,
   "metadata": {
    "tags": [
     "outputPrepend"
    ]
   },
   "outputs": [
    {
     "output_type": "stream",
     "name": "stdout",
     "text": [
      " 0],\n        [1, 0, 0],\n        [1, 0, 0]],\n\n       [[0, 0, 0],\n        [0, 0, 0],\n        [0, 0, 0],\n        [0, 0, 0],\n        [2, 5, 0],\n        [6, 2, 0],\n        [1, 0, 0]],\n\n       [[0, 0, 0],\n        [0, 0, 0],\n        [0, 0, 0],\n        [0, 0, 0],\n        [2, 5, 0],\n        [1, 0, 0],\n        [1, 0, 0]]], dtype=uint8), 'direction': 1, 'mission': 'open a yellow door and open the grey door on your right'}, <Actions.right: 1>, False), ({'image': array([[[0, 0, 0],\n        [0, 0, 0],\n        [0, 0, 0],\n        [0, 0, 0],\n        [0, 0, 0],\n        [0, 0, 0],\n        [0, 0, 0]],\n\n       [[2, 5, 0],\n        [2, 5, 0],\n        [2, 5, 0],\n        [2, 5, 0],\n        [2, 5, 0],\n        [2, 5, 0],\n        [2, 5, 0]],\n\n       [[2, 5, 0],\n        [1, 0, 0],\n        [1, 0, 0],\n        [1, 0, 0],\n        [6, 2, 0],\n        [1, 0, 0],\n        [1, 0, 0]],\n\n       [[2, 5, 0],\n        [1, 0, 0],\n        [1, 0, 0],\n        [1, 0, 0],\n        [1, 0, 0],\n        [1, 0, 0],\n        [1, 0, 0]],\n\n       [[2, 5, 0],\n        [1, 0, 0],\n        [1, 0, 0],\n        [1, 0, 0],\n        [1, 0, 0],\n        [1, 0, 0],\n        [1, 0, 0]],\n\n       [[2, 5, 0],\n        [1, 0, 0],\n        [1, 0, 0],\n        [1, 0, 0],\n        [1, 0, 0],\n        [1, 0, 0],\n        [1, 0, 0]],\n\n       [[2, 5, 0],\n        [1, 0, 0],\n        [1, 0, 0],\n        [1, 0, 0],\n        [1, 0, 0],\n        [1, 0, 0],\n        [1, 0, 0]]], dtype=uint8), 'direction': 2, 'mission': 'open a yellow door and open the grey door on your right'}, <Actions.right: 1>, False), ({'image': array([[[0, 0, 0],\n        [2, 5, 0],\n        [1, 0, 0],\n        [1, 0, 0],\n        [1, 0, 0],\n        [1, 0, 0],\n        [1, 0, 0]],\n\n       [[0, 0, 0],\n        [2, 5, 0],\n        [1, 0, 0],\n        [1, 0, 0],\n        [1, 0, 0],\n        [1, 0, 0],\n        [1, 0, 0]],\n\n       [[0, 0, 0],\n        [2, 5, 0],\n        [1, 0, 0],\n        [1, 0, 0],\n        [1, 0, 0],\n        [1, 0, 0],\n        [1, 0, 0]],\n\n       [[0, 0, 0],\n        [4, 2, 1],\n        [1, 0, 0],\n        [1, 0, 0],\n        [1, 0, 0],\n        [1, 0, 0],\n        [1, 0, 0]],\n\n       [[0, 0, 0],\n        [2, 5, 0],\n        [2, 5, 0],\n        [2, 5, 0],\n        [4, 5, 0],\n        [2, 5, 0],\n        [2, 5, 0]],\n\n       [[0, 0, 0],\n        [2, 5, 0],\n        [1, 0, 0],\n        [1, 0, 0],\n        [1, 0, 0],\n        [0, 0, 0],\n        [0, 0, 0]],\n\n       [[0, 0, 0],\n        [2, 5, 0],\n        [7, 1, 0],\n        [1, 0, 0],\n        [1, 0, 0],\n        [0, 0, 0],\n        [0, 0, 0]]], dtype=uint8), 'direction': 3, 'mission': 'open a yellow door and open the grey door on your right'}, <Actions.forward: 2>, False), ({'image': array([[[0, 0, 0],\n        [0, 0, 0],\n        [2, 5, 0],\n        [1, 0, 0],\n        [1, 0, 0],\n        [1, 0, 0],\n        [1, 0, 0]],\n\n       [[0, 0, 0],\n        [0, 0, 0],\n        [2, 5, 0],\n        [1, 0, 0],\n        [1, 0, 0],\n        [1, 0, 0],\n        [1, 0, 0]],\n\n       [[0, 0, 0],\n        [0, 0, 0],\n        [2, 5, 0],\n        [1, 0, 0],\n        [1, 0, 0],\n        [1, 0, 0],\n        [1, 0, 0]],\n\n       [[0, 0, 0],\n        [0, 0, 0],\n        [4, 2, 1],\n        [1, 0, 0],\n        [1, 0, 0],\n        [1, 0, 0],\n        [1, 0, 0]],\n\n       [[0, 0, 0],\n        [0, 0, 0],\n        [2, 5, 0],\n        [2, 5, 0],\n        [2, 5, 0],\n        [4, 5, 0],\n        [2, 5, 0]],\n\n       [[0, 0, 0],\n        [0, 0, 0],\n        [2, 5, 0],\n        [1, 0, 0],\n        [1, 0, 0],\n        [1, 0, 0],\n        [0, 0, 0]],\n\n       [[0, 0, 0],\n        [0, 0, 0],\n        [2, 5, 0],\n        [7, 1, 0],\n        [1, 0, 0],\n        [1, 0, 0],\n        [0, 0, 0]]], dtype=uint8), 'direction': 3, 'mission': 'open a yellow door and open the grey door on your right'}, <Actions.forward: 2>, False), ({'image': array([[[0, 0, 0],\n        [0, 0, 0],\n        [0, 0, 0],\n        [2, 5, 0],\n        [1, 0, 0],\n        [1, 0, 0],\n        [1, 0, 0]],\n\n       [[0, 0, 0],\n        [0, 0, 0],\n        [0, 0, 0],\n        [2, 5, 0],\n        [1, 0, 0],\n        [1, 0, 0],\n        [1, 0, 0]],\n\n       [[0, 0, 0],\n        [0, 0, 0],\n        [0, 0, 0],\n        [2, 5, 0],\n        [1, 0, 0],\n        [1, 0, 0],\n        [1, 0, 0]],\n\n       [[0, 0, 0],\n        [0, 0, 0],\n        [0, 0, 0],\n        [4, 2, 1],\n        [1, 0, 0],\n        [1, 0, 0],\n        [1, 0, 0]],\n\n       [[0, 0, 0],\n        [0, 0, 0],\n        [0, 0, 0],\n        [2, 5, 0],\n        [2, 5, 0],\n        [2, 5, 0],\n        [4, 5, 0]],\n\n       [[0, 0, 0],\n        [0, 0, 0],\n        [0, 0, 0],\n        [2, 5, 0],\n        [1, 0, 0],\n        [1, 0, 0],\n        [1, 0, 0]],\n\n       [[0, 0, 0],\n        [0, 0, 0],\n        [0, 0, 0],\n        [2, 5, 0],\n        [7, 1, 0],\n        [1, 0, 0],\n        [1, 0, 0]]], dtype=uint8), 'direction': 3, 'mission': 'open a yellow door and open the grey door on your right'}, <Actions.forward: 2>, False), ({'image': array([[[0, 0, 0],\n        [0, 0, 0],\n        [0, 0, 0],\n        [0, 0, 0],\n        [2, 5, 0],\n        [1, 0, 0],\n        [1, 0, 0]],\n\n       [[0, 0, 0],\n        [0, 0, 0],\n        [0, 0, 0],\n        [0, 0, 0],\n        [2, 5, 0],\n        [1, 0, 0],\n        [1, 0, 0]],\n\n       [[0, 0, 0],\n        [0, 0, 0],\n        [0, 0, 0],\n        [0, 0, 0],\n        [2, 5, 0],\n        [1, 0, 0],\n        [1, 0, 0]],\n\n       [[0, 0, 0],\n        [0, 0, 0],\n        [0, 0, 0],\n        [0, 0, 0],\n        [4, 2, 1],\n        [1, 0, 0],\n        [1, 0, 0]],\n\n       [[0, 0, 0],\n        [0, 0, 0],\n        [0, 0, 0],\n        [0, 0, 0],\n        [2, 5, 0],\n        [2, 5, 0],\n        [2, 5, 0]],\n\n       [[0, 0, 0],\n        [0, 0, 0],\n        [0, 0, 0],\n        [0, 0, 0],\n        [0, 0, 0],\n        [0, 0, 0],\n        [0, 0, 0]],\n\n       [[0, 0, 0],\n        [0, 0, 0],\n        [0, 0, 0],\n        [0, 0, 0],\n        [0, 0, 0],\n        [0, 0, 0],\n        [0, 0, 0]]], dtype=uint8), 'direction': 3, 'mission': 'open a yellow door and open the grey door on your right'}, <Actions.forward: 2>, False), ({'image': array([[[0, 0, 0],\n        [0, 0, 0],\n        [0, 0, 0],\n        [0, 0, 0],\n        [0, 0, 0],\n        [2, 5, 0],\n        [1, 0, 0]],\n\n       [[0, 0, 0],\n        [0, 0, 0],\n        [0, 0, 0],\n        [0, 0, 0],\n        [0, 0, 0],\n        [2, 5, 0],\n        [1, 0, 0]],\n\n       [[0, 0, 0],\n        [0, 0, 0],\n        [0, 0, 0],\n        [0, 0, 0],\n        [0, 0, 0],\n        [2, 5, 0],\n        [1, 0, 0]],\n\n       [[0, 0, 0],\n        [0, 0, 0],\n        [0, 0, 0],\n        [0, 0, 0],\n        [0, 0, 0],\n        [4, 2, 1],\n        [1, 0, 0]],\n\n       [[0, 0, 0],\n        [0, 0, 0],\n        [0, 0, 0],\n        [0, 0, 0],\n        [0, 0, 0],\n        [2, 5, 0],\n        [2, 5, 0]],\n\n       [[0, 0, 0],\n        [0, 0, 0],\n        [0, 0, 0],\n        [0, 0, 0],\n        [0, 0, 0],\n        [0, 0, 0],\n        [0, 0, 0]],\n\n       [[0, 0, 0],\n        [0, 0, 0],\n        [0, 0, 0],\n        [0, 0, 0],\n        [0, 0, 0],\n        [0, 0, 0],\n        [0, 0, 0]]], dtype=uint8), 'direction': 3, 'mission': 'open a yellow door and open the grey door on your right'}, <Actions.toggle: 5>, False), ({'image': array([[[1, 0, 0],\n        [1, 0, 0],\n        [1, 0, 0],\n        [1, 0, 0],\n        [1, 0, 0],\n        [2, 5, 0],\n        [1, 0, 0]],\n\n       [[1, 0, 0],\n        [1, 0, 0],\n        [1, 0, 0],\n        [1, 0, 0],\n        [1, 0, 0],\n        [2, 5, 0],\n        [1, 0, 0]],\n\n       [[1, 0, 0],\n        [1, 0, 0],\n        [1, 0, 0],\n        [1, 0, 0],\n        [1, 0, 0],\n        [2, 5, 0],\n        [1, 0, 0]],\n\n       [[1, 0, 0],\n        [1, 0, 0],\n        [1, 0, 0],\n        [1, 0, 0],\n        [1, 0, 0],\n        [4, 2, 0],\n        [1, 0, 0]],\n\n       [[2, 5, 0],\n        [2, 5, 0],\n        [2, 5, 0],\n        [2, 5, 0],\n        [2, 5, 0],\n        [2, 5, 0],\n        [2, 5, 0]],\n\n       [[0, 0, 0],\n        [0, 0, 0],\n        [0, 0, 0],\n        [0, 0, 0],\n        [0, 0, 0],\n        [0, 0, 0],\n        [0, 0, 0]],\n\n       [[0, 0, 0],\n        [0, 0, 0],\n        [0, 0, 0],\n        [0, 0, 0],\n        [0, 0, 0],\n        [0, 0, 0],\n        [0, 0, 0]]], dtype=uint8), 'direction': 3, 'mission': 'open a yellow door and open the grey door on your right'}, <Actions.forward: 2>, False), ({'image': array([[[1, 0, 0],\n        [1, 0, 0],\n        [1, 0, 0],\n        [1, 0, 0],\n        [1, 0, 0],\n        [1, 0, 0],\n        [0, 0, 0]],\n\n       [[1, 0, 0],\n        [1, 0, 0],\n        [1, 0, 0],\n        [1, 0, 0],\n        [1, 0, 0],\n        [1, 0, 0],\n        [0, 0, 0]],\n\n       [[1, 0, 0],\n        [1, 0, 0],\n        [1, 0, 0],\n        [1, 0, 0],\n        [1, 0, 0],\n        [1, 0, 0],\n        [2, 5, 0]],\n\n       [[1, 0, 0],\n        [1, 0, 0],\n        [1, 0, 0],\n        [1, 0, 0],\n        [1, 0, 0],\n        [1, 0, 0],\n        [1, 0, 0]],\n\n       [[2, 5, 0],\n        [2, 5, 0],\n        [2, 5, 0],\n        [2, 5, 0],\n        [2, 5, 0],\n        [2, 5, 0],\n        [2, 5, 0]],\n\n       [[0, 0, 0],\n        [0, 0, 0],\n        [0, 0, 0],\n        [0, 0, 0],\n        [0, 0, 0],\n        [0, 0, 0],\n        [0, 0, 0]],\n\n       [[0, 0, 0],\n        [0, 0, 0],\n        [0, 0, 0],\n        [0, 0, 0],\n        [0, 0, 0],\n        [0, 0, 0],\n        [0, 0, 0]]], dtype=uint8), 'direction': 3, 'mission': 'open a yellow door and open the grey door on your right'}, <Actions.forward: 2>, False), ({'image': array([[[2, 5, 0],\n        [1, 0, 0],\n        [1, 0, 0],\n        [1, 0, 0],\n        [1, 0, 0],\n        [1, 0, 0],\n        [1, 0, 0]],\n\n       [[4, 4, 1],\n        [1, 0, 0],\n        [1, 0, 0],\n        [1, 0, 0],\n        [1, 0, 0],\n        [1, 0, 0],\n        [1, 0, 0]],\n\n       [[2, 5, 0],\n        [1, 0, 0],\n        [1, 0, 0],\n        [1, 0, 0],\n        [1, 0, 0],\n        [1, 0, 0],\n        [1, 0, 0]],\n\n       [[2, 5, 0],\n        [1, 0, 0],\n        [1, 0, 0],\n        [1, 0, 0],\n        [1, 0, 0],\n        [1, 0, 0],\n        [1, 0, 0]],\n\n       [[2, 5, 0],\n        [2, 5, 0],\n        [2, 5, 0],\n        [2, 5, 0],\n        [2, 5, 0],\n        [2, 5, 0],\n        [2, 5, 0]],\n\n       [[0, 0, 0],\n        [0, 0, 0],\n        [0, 0, 0],\n        [0, 0, 0],\n        [0, 0, 0],\n        [0, 0, 0],\n        [0, 0, 0]],\n\n       [[0, 0, 0],\n        [0, 0, 0],\n        [0, 0, 0],\n        [0, 0, 0],\n        [0, 0, 0],\n        [0, 0, 0],\n        [0, 0, 0]]], dtype=uint8), 'direction': 3, 'mission': 'open a yellow door and open the grey door on your right'}, <Actions.forward: 2>, False), ({'image': array([[[0, 0, 0],\n        [2, 5, 0],\n        [1, 0, 0],\n        [1, 0, 0],\n        [1, 0, 0],\n        [1, 0, 0],\n        [1, 0, 0]],\n\n       [[0, 0, 0],\n        [4, 4, 1],\n        [1, 0, 0],\n        [1, 0, 0],\n        [1, 0, 0],\n        [1, 0, 0],\n        [1, 0, 0]],\n\n       [[0, 0, 0],\n        [2, 5, 0],\n        [1, 0, 0],\n        [1, 0, 0],\n        [1, 0, 0],\n        [1, 0, 0],\n        [1, 0, 0]],\n\n       [[0, 0, 0],\n        [2, 5, 0],\n        [1, 0, 0],\n        [1, 0, 0],\n        [1, 0, 0],\n        [1, 0, 0],\n        [1, 0, 0]],\n\n       [[0, 0, 0],\n        [2, 5, 0],\n        [2, 5, 0],\n        [2, 5, 0],\n        [2, 5, 0],\n        [2, 5, 0],\n        [2, 5, 0]],\n\n       [[0, 0, 0],\n        [0, 0, 0],\n        [0, 0, 0],\n        [0, 0, 0],\n        [0, 0, 0],\n        [0, 0, 0],\n        [0, 0, 0]],\n\n       [[0, 0, 0],\n        [0, 0, 0],\n        [0, 0, 0],\n        [0, 0, 0],\n        [0, 0, 0],\n        [0, 0, 0],\n        [0, 0, 0]]], dtype=uint8), 'direction': 3, 'mission': 'open a yellow door and open the grey door on your right'}, <Actions.forward: 2>, False), ({'image': array([[[0, 0, 0],\n        [0, 0, 0],\n        [2, 5, 0],\n        [1, 0, 0],\n        [1, 0, 0],\n        [1, 0, 0],\n        [1, 0, 0]],\n\n       [[0, 0, 0],\n        [0, 0, 0],\n        [4, 4, 1],\n        [1, 0, 0],\n        [1, 0, 0],\n        [1, 0, 0],\n        [1, 0, 0]],\n\n       [[0, 0, 0],\n        [0, 0, 0],\n        [2, 5, 0],\n        [1, 0, 0],\n        [1, 0, 0],\n        [1, 0, 0],\n        [1, 0, 0]],\n\n       [[0, 0, 0],\n        [0, 0, 0],\n        [2, 5, 0],\n        [1, 0, 0],\n        [1, 0, 0],\n        [1, 0, 0],\n        [1, 0, 0]],\n\n       [[0, 0, 0],\n        [0, 0, 0],\n        [2, 5, 0],\n        [2, 5, 0],\n        [2, 5, 0],\n        [2, 5, 0],\n        [2, 5, 0]],\n\n       [[0, 0, 0],\n        [0, 0, 0],\n        [0, 0, 0],\n        [0, 0, 0],\n        [0, 0, 0],\n        [0, 0, 0],\n        [0, 0, 0]],\n\n       [[0, 0, 0],\n        [0, 0, 0],\n        [0, 0, 0],\n        [0, 0, 0],\n        [0, 0, 0],\n        [0, 0, 0],\n        [0, 0, 0]]], dtype=uint8), 'direction': 3, 'mission': 'open a yellow door and open the grey door on your right'}, <Actions.forward: 2>, False), ({'image': array([[[0, 0, 0],\n        [0, 0, 0],\n        [0, 0, 0],\n        [2, 5, 0],\n        [1, 0, 0],\n        [1, 0, 0],\n        [1, 0, 0]],\n\n       [[0, 0, 0],\n        [0, 0, 0],\n        [0, 0, 0],\n        [4, 4, 1],\n        [1, 0, 0],\n        [1, 0, 0],\n        [1, 0, 0]],\n\n       [[0, 0, 0],\n        [0, 0, 0],\n        [0, 0, 0],\n        [2, 5, 0],\n        [1, 0, 0],\n        [1, 0, 0],\n        [1, 0, 0]],\n\n       [[0, 0, 0],\n        [0, 0, 0],\n        [0, 0, 0],\n        [2, 5, 0],\n        [1, 0, 0],\n        [1, 0, 0],\n        [1, 0, 0]],\n\n       [[0, 0, 0],\n        [0, 0, 0],\n        [0, 0, 0],\n        [2, 5, 0],\n        [2, 5, 0],\n        [2, 5, 0],\n        [2, 5, 0]],\n\n       [[0, 0, 0],\n        [0, 0, 0],\n        [0, 0, 0],\n        [0, 0, 0],\n        [0, 0, 0],\n        [0, 0, 0],\n        [0, 0, 0]],\n\n       [[0, 0, 0],\n        [0, 0, 0],\n        [0, 0, 0],\n        [0, 0, 0],\n        [0, 0, 0],\n        [0, 0, 0],\n        [0, 0, 0]]], dtype=uint8), 'direction': 3, 'mission': 'open a yellow door and open the grey door on your right'}, <Actions.forward: 2>, False), ({'image': array([[[0, 0, 0],\n        [0, 0, 0],\n        [0, 0, 0],\n        [0, 0, 0],\n        [2, 5, 0],\n        [1, 0, 0],\n        [1, 0, 0]],\n\n       [[0, 0, 0],\n        [0, 0, 0],\n        [0, 0, 0],\n        [0, 0, 0],\n        [4, 4, 1],\n        [1, 0, 0],\n        [1, 0, 0]],\n\n       [[0, 0, 0],\n        [0, 0, 0],\n        [0, 0, 0],\n        [0, 0, 0],\n        [2, 5, 0],\n        [1, 0, 0],\n        [1, 0, 0]],\n\n       [[0, 0, 0],\n        [0, 0, 0],\n        [0, 0, 0],\n        [0, 0, 0],\n        [2, 5, 0],\n        [1, 0, 0],\n        [1, 0, 0]],\n\n       [[0, 0, 0],\n        [0, 0, 0],\n        [0, 0, 0],\n        [0, 0, 0],\n        [2, 5, 0],\n        [2, 5, 0],\n        [2, 5, 0]],\n\n       [[0, 0, 0],\n        [0, 0, 0],\n        [0, 0, 0],\n        [0, 0, 0],\n        [0, 0, 0],\n        [0, 0, 0],\n        [0, 0, 0]],\n\n       [[0, 0, 0],\n        [0, 0, 0],\n        [0, 0, 0],\n        [0, 0, 0],\n        [0, 0, 0],\n        [0, 0, 0],\n        [0, 0, 0]]], dtype=uint8), 'direction': 3, 'mission': 'open a yellow door and open the grey door on your right'}, <Actions.forward: 2>, False), ({'image': array([[[0, 0, 0],\n        [0, 0, 0],\n        [0, 0, 0],\n        [0, 0, 0],\n        [0, 0, 0],\n        [2, 5, 0],\n        [1, 0, 0]],\n\n       [[0, 0, 0],\n        [0, 0, 0],\n        [0, 0, 0],\n        [0, 0, 0],\n        [0, 0, 0],\n        [4, 4, 1],\n        [1, 0, 0]],\n\n       [[0, 0, 0],\n        [0, 0, 0],\n        [0, 0, 0],\n        [0, 0, 0],\n        [0, 0, 0],\n        [2, 5, 0],\n        [1, 0, 0]],\n\n       [[0, 0, 0],\n        [0, 0, 0],\n        [0, 0, 0],\n        [0, 0, 0],\n        [0, 0, 0],\n        [2, 5, 0],\n        [1, 0, 0]],\n\n       [[0, 0, 0],\n        [0, 0, 0],\n        [0, 0, 0],\n        [0, 0, 0],\n        [0, 0, 0],\n        [2, 5, 0],\n        [2, 5, 0]],\n\n       [[0, 0, 0],\n        [0, 0, 0],\n        [0, 0, 0],\n        [0, 0, 0],\n        [0, 0, 0],\n        [0, 0, 0],\n        [0, 0, 0]],\n\n       [[0, 0, 0],\n        [0, 0, 0],\n        [0, 0, 0],\n        [0, 0, 0],\n        [0, 0, 0],\n        [0, 0, 0],\n        [0, 0, 0]]], dtype=uint8), 'direction': 3, 'mission': 'open a yellow door and open the grey door on your right'}, <Actions.left: 0>, False), ({'image': array([[[2, 5, 0],\n        [1, 0, 0],\n        [1, 0, 0],\n        [1, 0, 0],\n        [1, 0, 0],\n        [1, 0, 0],\n        [1, 0, 0]],\n\n       [[2, 5, 0],\n        [1, 0, 0],\n        [1, 0, 0],\n        [1, 0, 0],\n        [1, 0, 0],\n        [1, 0, 0],\n        [1, 0, 0]],\n\n       [[2, 5, 0],\n        [1, 0, 0],\n        [1, 0, 0],\n        [1, 0, 0],\n        [1, 0, 0],\n        [1, 0, 0],\n        [1, 0, 0]],\n\n       [[2, 5, 0],\n        [1, 0, 0],\n        [1, 0, 0],\n        [1, 0, 0],\n        [1, 0, 0],\n        [1, 0, 0],\n        [1, 0, 0]],\n\n       [[2, 5, 0],\n        [2, 5, 0],\n        [2, 5, 0],\n        [2, 5, 0],\n        [4, 4, 1],\n        [2, 5, 0],\n        [2, 5, 0]],\n\n       [[0, 0, 0],\n        [0, 0, 0],\n        [0, 0, 0],\n        [0, 0, 0],\n        [0, 0, 0],\n        [0, 0, 0],\n        [0, 0, 0]],\n\n       [[0, 0, 0],\n        [0, 0, 0],\n        [0, 0, 0],\n        [0, 0, 0],\n        [0, 0, 0],\n        [0, 0, 0],\n        [0, 0, 0]]], dtype=uint8), 'direction': 2, 'mission': 'open a yellow door and open the grey door on your right'}, <Actions.forward: 2>, False), ({'image': array([[[0, 0, 0],\n        [2, 5, 0],\n        [1, 0, 0],\n        [1, 0, 0],\n        [1, 0, 0],\n        [1, 0, 0],\n        [1, 0, 0]],\n\n       [[0, 0, 0],\n        [2, 5, 0],\n        [1, 0, 0],\n        [1, 0, 0],\n        [1, 0, 0],\n        [1, 0, 0],\n        [1, 0, 0]],\n\n       [[0, 0, 0],\n        [2, 5, 0],\n        [1, 0, 0],\n        [1, 0, 0],\n        [1, 0, 0],\n        [1, 0, 0],\n        [1, 0, 0]],\n\n       [[0, 0, 0],\n        [2, 5, 0],\n        [1, 0, 0],\n        [1, 0, 0],\n        [1, 0, 0],\n        [1, 0, 0],\n        [1, 0, 0]],\n\n       [[0, 0, 0],\n        [2, 5, 0],\n        [2, 5, 0],\n        [2, 5, 0],\n        [2, 5, 0],\n        [4, 4, 1],\n        [2, 5, 0]],\n\n       [[0, 0, 0],\n        [0, 0, 0],\n        [0, 0, 0],\n        [0, 0, 0],\n        [0, 0, 0],\n        [0, 0, 0],\n        [0, 0, 0]],\n\n       [[0, 0, 0],\n        [0, 0, 0],\n        [0, 0, 0],\n        [0, 0, 0],\n        [0, 0, 0],\n        [0, 0, 0],\n        [0, 0, 0]]], dtype=uint8), 'direction': 2, 'mission': 'open a yellow door and open the grey door on your right'}, <Actions.forward: 2>, False), ({'image': array([[[0, 0, 0],\n        [0, 0, 0],\n        [2, 5, 0],\n        [1, 0, 0],\n        [1, 0, 0],\n        [1, 0, 0],\n        [1, 0, 0]],\n\n       [[0, 0, 0],\n        [0, 0, 0],\n        [2, 5, 0],\n        [1, 0, 0],\n        [1, 0, 0],\n        [1, 0, 0],\n        [1, 0, 0]],\n\n       [[0, 0, 0],\n        [0, 0, 0],\n        [2, 5, 0],\n        [1, 0, 0],\n        [1, 0, 0],\n        [1, 0, 0],\n        [1, 0, 0]],\n\n       [[0, 0, 0],\n        [0, 0, 0],\n        [2, 5, 0],\n        [1, 0, 0],\n        [1, 0, 0],\n        [1, 0, 0],\n        [1, 0, 0]],\n\n       [[0, 0, 0],\n        [0, 0, 0],\n        [2, 5, 0],\n        [2, 5, 0],\n        [2, 5, 0],\n        [2, 5, 0],\n        [4, 4, 1]],\n\n       [[0, 0, 0],\n        [0, 0, 0],\n        [0, 0, 0],\n        [0, 0, 0],\n        [0, 0, 0],\n        [0, 0, 0],\n        [0, 0, 0]],\n\n       [[0, 0, 0],\n        [0, 0, 0],\n        [0, 0, 0],\n        [0, 0, 0],\n        [0, 0, 0],\n        [0, 0, 0],\n        [0, 0, 0]]], dtype=uint8), 'direction': 2, 'mission': 'open a yellow door and open the grey door on your right'}, <Actions.right: 1>, False), ({'image': array([[[0, 0, 0],\n        [0, 0, 0],\n        [0, 0, 0],\n        [0, 0, 0],\n        [0, 0, 0],\n        [2, 5, 0],\n        [1, 0, 0]],\n\n       [[0, 0, 0],\n        [0, 0, 0],\n        [0, 0, 0],\n        [0, 0, 0],\n        [0, 0, 0],\n        [2, 5, 0],\n        [1, 0, 0]],\n\n       [[0, 0, 0],\n        [0, 0, 0],\n        [0, 0, 0],\n        [0, 0, 0],\n        [0, 0, 0],\n        [2, 5, 0],\n        [1, 0, 0]],\n\n       [[0, 0, 0],\n        [0, 0, 0],\n        [0, 0, 0],\n        [0, 0, 0],\n        [0, 0, 0],\n        [4, 4, 1],\n        [1, 0, 0]],\n\n       [[0, 0, 0],\n        [0, 0, 0],\n        [0, 0, 0],\n        [0, 0, 0],\n        [0, 0, 0],\n        [2, 5, 0],\n        [1, 0, 0]],\n\n       [[0, 0, 0],\n        [0, 0, 0],\n        [0, 0, 0],\n        [0, 0, 0],\n        [0, 0, 0],\n        [2, 5, 0],\n        [1, 0, 0]],\n\n       [[0, 0, 0],\n        [0, 0, 0],\n        [0, 0, 0],\n        [0, 0, 0],\n        [0, 0, 0],\n        [2, 5, 0],\n        [2, 5, 0]]], dtype=uint8), 'direction': 3, 'mission': 'open a yellow door and open the grey door on your right'}, <Actions.toggle: 5>, True)]\n"
     ]
    }
   ],
   "source": [
    "print(demo_list[0])"
   ]
  },
  {
   "cell_type": "code",
   "execution_count": 12,
   "metadata": {},
   "outputs": [],
   "source": [
    "import matplotlib.pyplot as plt"
   ]
  },
  {
   "cell_type": "code",
   "execution_count": 13,
   "metadata": {},
   "outputs": [],
   "source": [
    "def get_demo_gifs(demo_list, location):\n",
    "\n",
    "    for d in range(len(demo_list)):\n",
    "        frames = []\n",
    "        last_img = None\n",
    "        for i in range(len(demo_list[d])):\n",
    "            ex_obs = demo_list[d][i][0]['image']\n",
    "            last_img = env.get_obs_render(\n",
    "                    ex_obs,\n",
    "                    tile_size=8\n",
    "                )\n",
    "            dir = demo_list[d][i][0]['direction']\n",
    "\n",
    "            if dir == 0:\n",
    "                # pointing right\n",
    "                last_img = numpy.rot90(last_img, axes=(1,0))\n",
    "            elif dir == 1:\n",
    "                # pointing down\n",
    "                last_img = numpy.rot90(last_img, k=2, axes=(1,0))\n",
    "            elif dir == 2:\n",
    "                # pointing left\n",
    "                last_img = numpy.rot90(last_img, axes=(0,1))\n",
    "            # else it's pointing up - leave alone\n",
    "\n",
    "            frames.append(numpy.moveaxis(last_img, 2, 0))\n",
    "\n",
    "        for i in range(10):\n",
    "            frames.append(numpy.moveaxis(last_img, 2, 0))\n",
    "\n",
    "        mission = demo_list[d][1][0]['mission']\n",
    "        print(\"Saving gif \" + str(d) + \"... \", end=\"\")\n",
    "        write_gif(numpy.array(frames), location + \"/demo\" + str(d) + \"_\" + mission + \"_\"  + \".gif\", fps=1/0.3)\n",
    "        print(\"Done.\")"
   ]
  },
  {
   "cell_type": "code",
   "execution_count": 86,
   "metadata": {},
   "outputs": [],
   "source": [
    "# gif for demo index 0\n",
    "# for i in range(len(demo_list[0])):\n",
    "#     env.render('human')\n",
    "#     frames.append(numpy.moveaxis(env.render(\"rgb_array\"), 2, 0))\n",
    "#     action = demo_list[0][i][1]\n",
    "#     obs, reward, done, _ = env.step(action)\n",
    "\n"
   ]
  },
  {
   "source": [
    "## unlock"
   ],
   "cell_type": "markdown",
   "metadata": {}
  },
  {
   "cell_type": "code",
   "execution_count": 3,
   "metadata": {},
   "outputs": [],
   "source": [
    "d_path = '/data/graceduansu/demos/BabyAI-Unlock-v0'"
   ]
  },
  {
   "cell_type": "code",
   "execution_count": 42,
   "metadata": {},
   "outputs": [],
   "source": [
    "demos_path = utils.get_demos_path(d_path, None, None, valid=False)\n",
    "train_demos = utils.load_demos(demos_path)"
   ]
  },
  {
   "cell_type": "code",
   "execution_count": 43,
   "metadata": {},
   "outputs": [
    {
     "output_type": "execute_result",
     "data": {
      "text/plain": [
       "1000000"
      ]
     },
     "metadata": {},
     "execution_count": 43
    }
   ],
   "source": [
    "len(train_demos)"
   ]
  },
  {
   "cell_type": "code",
   "execution_count": 44,
   "metadata": {},
   "outputs": [],
   "source": [
    "batch = [train_demos[i] for i in range(0, 100)]"
   ]
  },
  {
   "cell_type": "code",
   "execution_count": 45,
   "metadata": {},
   "outputs": [],
   "source": [
    "demo_list = utils.demos.transform_demos(batch)"
   ]
  },
  {
   "cell_type": "code",
   "execution_count": 14,
   "metadata": {
    "tags": []
   },
   "outputs": [
    {
     "output_type": "stream",
     "name": "stdout",
     "text": [
      "Saving gif 0... Done.\n",
      "Saving gif 1... Done.\n",
      "Saving gif 2... Done.\n",
      "Saving gif 3... Done.\n",
      "Saving gif 4... Done.\n",
      "Saving gif 5... Done.\n",
      "Saving gif 6... Done.\n",
      "Saving gif 7... Done.\n",
      "Saving gif 8... Done.\n",
      "Saving gif 9... Done.\n",
      "Saving gif 10... Done.\n",
      "Saving gif 11... Done.\n",
      "Saving gif 12... Done.\n",
      "Saving gif 13... Done.\n",
      "Saving gif 14... Done.\n",
      "Saving gif 15... Done.\n",
      "Saving gif 16... Done.\n",
      "Saving gif 17... Done.\n",
      "Saving gif 18... Done.\n",
      "Saving gif 19... Done.\n",
      "Saving gif 20... Done.\n",
      "Saving gif 21... Done.\n",
      "Saving gif 22... Done.\n",
      "Saving gif 23... Done.\n",
      "Saving gif 24... Done.\n",
      "Saving gif 25... Done.\n",
      "Saving gif 26... Done.\n",
      "Saving gif 27... Done.\n",
      "Saving gif 28... Done.\n",
      "Saving gif 29... Done.\n",
      "Saving gif 30... Done.\n",
      "Saving gif 31... Done.\n",
      "Saving gif 32... Done.\n",
      "Saving gif 33... Done.\n",
      "Saving gif 34... Done.\n",
      "Saving gif 35... Done.\n",
      "Saving gif 36... Done.\n",
      "Saving gif 37... Done.\n",
      "Saving gif 38... Done.\n",
      "Saving gif 39... Done.\n",
      "Saving gif 40... Done.\n",
      "Saving gif 41... Done.\n",
      "Saving gif 42... Done.\n",
      "Saving gif 43... Done.\n",
      "Saving gif 44... Done.\n",
      "Saving gif 45... Done.\n",
      "Saving gif 46... Done.\n",
      "Saving gif 47... Done.\n",
      "Saving gif 48... Done.\n",
      "Saving gif 49... Done.\n",
      "Saving gif 50... Done.\n",
      "Saving gif 51... Done.\n",
      "Saving gif 52... Done.\n",
      "Saving gif 53... Done.\n",
      "Saving gif 54... Done.\n",
      "Saving gif 55... Done.\n",
      "Saving gif 56... Done.\n",
      "Saving gif 57... Done.\n",
      "Saving gif 58... Done.\n",
      "Saving gif 59... Done.\n",
      "Saving gif 60... Done.\n",
      "Saving gif 61... Done.\n",
      "Saving gif 62... Done.\n",
      "Saving gif 63... Done.\n",
      "Saving gif 64... Done.\n",
      "Saving gif 65... Done.\n",
      "Saving gif 66... Done.\n",
      "Saving gif 67... Done.\n",
      "Saving gif 68... Done.\n",
      "Saving gif 69... Done.\n",
      "Saving gif 70... Done.\n",
      "Saving gif 71... Done.\n",
      "Saving gif 72... Done.\n",
      "Saving gif 73... Done.\n",
      "Saving gif 74... Done.\n",
      "Saving gif 75... Done.\n",
      "Saving gif 76... Done.\n",
      "Saving gif 77... Done.\n",
      "Saving gif 78... Done.\n",
      "Saving gif 79... Done.\n",
      "Saving gif 80... Done.\n",
      "Saving gif 81... Done.\n",
      "Saving gif 82... Done.\n",
      "Saving gif 83... Done.\n",
      "Saving gif 84... Done.\n",
      "Saving gif 85... Done.\n",
      "Saving gif 86... Done.\n",
      "Saving gif 87... Done.\n",
      "Saving gif 88... Done.\n",
      "Saving gif 89... Done.\n",
      "Saving gif 90... Done.\n",
      "Saving gif 91... Done.\n",
      "Saving gif 92... Done.\n",
      "Saving gif 93... Done.\n",
      "Saving gif 94... Done.\n",
      "Saving gif 95... Done.\n",
      "Saving gif 96... Done.\n",
      "Saving gif 97... Done.\n",
      "Saving gif 98... Done.\n",
      "Saving gif 99... Done.\n"
     ]
    }
   ],
   "source": [
    "get_demo_gifs(demo_list, '/data/graceduansu/demos/BabyAI-SynthSeq-v0')"
   ]
  },
  {
   "cell_type": "code",
   "execution_count": null,
   "metadata": {},
   "outputs": [],
   "source": []
  }
 ]
}